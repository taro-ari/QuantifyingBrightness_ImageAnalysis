{
  "nbformat": 4,
  "nbformat_minor": 0,
  "metadata": {
    "colab": {
      "name": "1106.ipynb",
      "version": "0.3.2",
      "provenance": [],
      "include_colab_link": true
    },
    "kernelspec": {
      "name": "python3",
      "display_name": "Python 3"
    }
  },
  "cells": [
    {
      "cell_type": "markdown",
      "metadata": {
        "id": "view-in-github",
        "colab_type": "text"
      },
      "source": [
        "<a href=\"https://colab.research.google.com/github/taroarimoto/QuantifyingBrightness_ImageAnalysis/blob/master/1106.ipynb\" target=\"_parent\"><img src=\"https://colab.research.google.com/assets/colab-badge.svg\" alt=\"Open In Colab\"/></a>"
      ]
    },
    {
      "metadata": {
        "id": "gKcdmJjRDwei",
        "colab_type": "code",
        "colab": {
          "base_uri": "https://localhost:8080/",
          "height": 51
        },
        "outputId": "59a1b297-245e-45cb-814b-27dab2806f22"
      },
      "cell_type": "code",
      "source": [
        "import random\n",
        "hit = random.randint(1,10)\n",
        "print(hit)\n",
        "\n",
        "if hit < 6:\n",
        "  print(\"スライムに、\"+str(hit)+ \"のダメージを与えた\")\n",
        "\n",
        "else:\n",
        "    print(\"クリティカルヒット！スライムに、100のダメージを与えた！\")\n"
      ],
      "execution_count": 7,
      "outputs": [
        {
          "output_type": "stream",
          "text": [
            "2\n",
            "スライムに、2のダメージを与えた\n"
          ],
          "name": "stdout"
        }
      ]
    },
    {
      "metadata": {
        "id": "CbISa4-WD3yo",
        "colab_type": "code",
        "colab": {}
      },
      "cell_type": "code",
      "source": [
        ""
      ],
      "execution_count": 0,
      "outputs": []
    }
  ]
}